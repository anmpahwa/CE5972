{
 "cells": [
  {
   "cell_type": "markdown",
   "metadata": {},
   "source": [
    "# Lecture 4\n",
    "\n",
    "Before we begin programming optimisation models, we will first cover some basics of linear algebra in this lecture.\n",
    "\n",
    "---\n",
    "\n",
    "## Linear Algebra\n",
    "\n",
    "### Vectors\n",
    "\n",
    "Vectors are an array of numbers arranged either in a column or in a row. Thus, a column vector with $n$ rows has a dimension of $n \\times 1$, while a row vector with $n$ columns has a dimension of $1 \\times n$.\n",
    "\n",
    "For example,\n",
    "\n",
    "$$\n",
    "\\mathbf{v} = \n",
    "\\begin{bmatrix}\n",
    "9 \\\\\n",
    "1 \\\\\n",
    "5 \\\\\n",
    "4 \\\\\n",
    "6 \\\\\n",
    "7\n",
    "\\end{bmatrix}_{6 \\times 1}\n",
    "\\quad\n",
    "\\mathbf{v} =\n",
    "\\begin{bmatrix}\n",
    "9 & 1 & 5 & 4 & 6 & 7\n",
    "\\end{bmatrix}_{1 \\times 6}\n",
    "$$\n",
    "\n",
    "Note, the $i^{th}$ element of vector $v$ is given by $v_i$.\n",
    "\n",
    "### Matrices\n",
    "\n",
    "A matrix is a rectangular array of numbers with $r$ rows and $c$ columns, thus having a dimension of $r \\times c$.\n",
    "\n",
    "For example,\n",
    "\n",
    "$$\n",
    "\\mathbf{M} = \n",
    "\\begin{bmatrix}\n",
    "9 & 1 & 5 \\\\\n",
    "4 & 6 & 7\n",
    "\\end{bmatrix}_{2 \\times 3}\n",
    "$$\n",
    "\n",
    "Note, the element from $i^{th}$ row and $j^{th}$ column of matrix $M$ is given by $m_{ij}$. \n",
    "\n",
    "### Operations\n",
    "\n",
    "- **Addition**\n",
    "- **Multiplication**\n",
    "\n",
    "### System of Equations\n",
    "\n",
    "We will delve deeper into solving systems of equations later in the course.\n"
   ]
  },
  {
   "cell_type": "code",
   "execution_count": null,
   "metadata": {},
   "outputs": [],
   "source": [
    "println(\"Hello World\")"
   ]
  }
 ],
 "metadata": {
  "kernelspec": {
   "display_name": "Julia 1.9.4",
   "language": "julia",
   "name": "julia-1.9"
  },
  "language_info": {
   "file_extension": ".jl",
   "mimetype": "application/julia",
   "name": "julia",
   "version": "1.9.4"
  }
 },
 "nbformat": 4,
 "nbformat_minor": 2
}
