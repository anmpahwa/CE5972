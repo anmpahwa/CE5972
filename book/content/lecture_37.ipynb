{
 "cells": [
  {
   "cell_type": "markdown",
   "metadata": {},
   "source": [
    "# Lecture 36: Case Study\n",
    "\n",
    "---\n",
    "\n",
    "## The Implementation - Monte Carlo Simulation Framework\n",
    "\n",
    "...\n",
    "\n",
    "The Monte Carlo Simulation framework enables use of the Adaptive Large Neighbourhood Search (ALNS) algorithm to optimise and simulate the strategic, tactical, and operational decision-making associated with Dynamic-Stochastic Multi-Echelon Capacitated Location Routing Problem with Time-Windows (DS-ME-C-LRP-TW). Specifically, at the strategic level, the framework utilises the ALNS algorithm to configure the distribution structure for the planning horizon to optimally meet the anticipated customer demand over this period. Subsequently, at the tactical level, the Monte Carlo Simulation framework simulates each working day sampled from the planning horizon, configuring daily distribution operations using the ALNS algorithm to optimally service the daily stochastic customer demand. Finally, at the operational level, the framework deploys the ALNS algorithm to fine-tune the daily distribution operations for each simulated working-day to optimally cater to the dynamic customer demand arriving through the day, requesting for service by the end of the day.\n",
    "\n",
    "..."
   ]
  }
 ],
 "metadata": {
  "language_info": {
   "name": "python"
  }
 },
 "nbformat": 4,
 "nbformat_minor": 2
}
