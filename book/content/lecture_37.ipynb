{
 "cells": [
  {
   "cell_type": "markdown",
   "metadata": {},
   "source": [
    "# Lecture 37: Swarm Intelligence\n",
    "\n",
    "---\n",
    "\n",
    "## Overview\n",
    "\n",
    "Swarm Intelligence algorithms take inspiration from the collective behaviour of decentralised, self-organising systems found in nature, such a colony of ants, flock of birds, school of fish, etc. These algorithms model local interactions between agents that render the swarm to achieve its global objectives.  In particular, a swarm intelligence-based algorithm begins with a swarm - s, wherein each agent – s∈s represents a potential solution to the optimisation problem at hand. The algorithm operates iteratively, generating new agent – s^', for each agent – s, by updating agent’s attributes using update function – UF, swarm attributes – θ, and search parameters – χ. Consequently, the algorithm may replace the existing agent with the new agent, contingent on their fitness evaluations – f. Following each individual agent updates, the algorithm adjusts swarm parameters using an adaptive function – AF, to reflect the evolving characteristics of its agents. Having updated all the agents, the algorithm then identifies the best agent in the swarm and consequently updates the global best, if necessary. Finally, before moving onto the next iteration, the algorithm updates search parameters using the learning function – LF, to guide the swarm more effectively towards its objective. This process of local agent and global swarm updates continues until convergence, i.e., until the algorithm achieves a threshold level of solution quality or has spent a threshold amount of computational effort.\n",
    "\n",
    "Note, in any swam intelligence-based algorithm, the update, adaptive, and learning functions play a critical role in solution search. Specifically, the update function is responsible for generating new candidate solutions by modifying attributes of individual agents based on collective swarm attributes and algorithm’s search parameters. On the other hand, the adaptive function controls the evolution of swarm attributes based on individual agent attributes. For instance, in ant colony optimisation, the update function models the probabilistic choice of paths based on pheromone levels. Consequently, the adaptive function ensures sufficient pheromone evaporation to enable ants to explore other less-visited paths. On the other hand, in particle swarm optimisation, the update function adjusts the position and velocity of particles based on its individual experience (cognitive component) pertaining to the best solution developed by the particle (local optimal) and swarm’s collective experience (social component) describing the best solution developed the swarm (global optimal). Consequently, the adaptive function updates the inertia of the swarm, guiding it towards promising regions in the solution landscape. Notably, the learning function updates the search parameters to balance exploration and exploitation, and thus enable the algorithm to develop high-quality solutions. For instance, in ant colony optimisation, the learning function adjusts pheromone deposition and evaporation rates, whereas in particle swarm optimisation, it adjusts cognitive and social biases. Likewise, other swarm intelligence-based algorithms, such as the artificial bee colony algorithm, firefly algorithm, bat algorithm, etc., have their unique (albeit not necessarily explicit) update, adaptive, and learning operations that enable solution landscape exploration and exploitation.\n",
    "\n",
    "With the ability to emulate the collective intelligence of a population of agents, swarm intelligence-based algorithms have found wide use in optimising vehicle routing problem, traffic signals, parking systems, vehicle navigation systems, transit timetabling/scheduling, dial-a-ride problem, and traffic assignment problem, generally listed in the order of utilisation of swarm intelligence-based algorithms.\n",
    "\n",
    "## Pseudo Code\n",
    "\n",
    "---\n",
    "\n",
    "## Implementation\n",
    "\n",
    "---\n",
    "\n",
    "## Case Study\n",
    "\n",
    "---\n",
    "\n",
    "```{note}\n",
    "...\n",
    "```"
   ]
  }
 ],
 "metadata": {
  "language_info": {
   "name": "python"
  }
 },
 "nbformat": 4,
 "nbformat_minor": 2
}
