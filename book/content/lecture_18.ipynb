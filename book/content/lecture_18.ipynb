{
 "cells": [
  {
   "cell_type": "markdown",
   "metadata": {},
   "source": [
    "# Lecture 18: Maximum Flow Problem\n",
    "\n",
    "## General Description\n",
    "\n",
    "For a network modeled as a directed graph $G=(N,A)$, with $N$ and $A$ representing the set of nodes and edges, respectively, the objective of a Maximum Flow Problem is to find the maximum amount of flow that can be transported this network from a source node $r$ to a sink node $s$, given that each edge $(i,j) \\in A$ has a capacity $q_{ij}$.\n",
    "\n",
    "Objective:\n",
    "\n",
    "$$\n",
    "\\max \\ x_{rs}\n",
    "$$\n",
    "\n",
    "Subject to:\n",
    "\n",
    "$$\n",
    "\\begin{aligned}\n",
    "\\sum_{i \\in T(r)} x_{ir} & = x_{rs} \\\\\n",
    "\\sum_{j \\in H(s)} x_{sj} & = x_{rs} \\\\\n",
    "\\sum_{i \\in T(j)} x_{ij} & = \\sum_{k \\in H(j)} x_{jk} & \\ \\forall \\ j \\in N \\\\\n",
    "x_{ij} & \\in [0,q_{ij}] & \\ \\forall \\ (i,j) \\in A\n",
    "\\end{aligned}\n",
    "$$\n",
    "\n",
    "Here, $T(i)$ represents the set of predecessor (tail) nodes of node $i$, while $H(i)$ represents the set of successor (head) nodes, defined as follows,\n",
    "\n",
    "$$\n",
    "\\begin{aligned}\n",
    "T(i) & = \\{j; \\ (j,i) \\in A\\} \\\\\n",
    "H(i) & = \\{j; \\ (i,j) \\in A\\}\n",
    "\\end{aligned}\n",
    "$$\n",
    "\n",
    "Note, $x_{ij}$ represents the amount of flow from node $i$ to node $j$.\n",
    "\n",
    "## Example"
   ]
  }
 ],
 "metadata": {
  "language_info": {
   "name": "python"
  }
 },
 "nbformat": 4,
 "nbformat_minor": 2
}
