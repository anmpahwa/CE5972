{
 "cells": [
  {
   "cell_type": "markdown",
   "metadata": {},
   "source": [
    "# Lecture 18: Maximum Flow Problem\n",
    "\n",
    "## General Description\n",
    "\n",
    "For a network modeled as a directed graph $G=(V,E)$, with $V$ and $E$ representing the set of nodes and edges, respectively, the objective of a Maximum Flow Problem is to find the maximum amount of flow that can be transported this network from a source node $r$ to a sink node $s$, given that each edge $(i,j) \\in E$ has a capacity $q_{ij}$.\n",
    "\n",
    "Objective:\n",
    "\n",
    "$$\n",
    "\\max \\ x_{rs}\n",
    "$$\n",
    "\n",
    "Subjecto to:\n",
    "\n",
    "$$\n",
    "\\begin{aligned}\n",
    "\\sum_{i \\in T(r)} x_{ir} & = x_{rs} \\\\\n",
    "\\sum_{j \\in H(s)} x_{sj} & = x_{rs} \\\\\n",
    "\\sum_{i \\in T(j)} x_{ij} & = \\sum_{k \\in H(j)} x_{jk} \\ \\forall \\ j \\in E \\\\\n",
    "x_{ij} & \\in [0,q_{ij}] \\ \\forall \\ (i,j) \\in E\n",
    "\\end{aligned}\n",
    "$$\n",
    "\n",
    "Here, $T(i)$ represents the set of predecessor (tail) nodes of node $i$, while $H(i)$ represents the set of sucessor (head) nodes. Further, $x_{ij}$ represents the amount of flow from node $i$ to node $j$.\n",
    "\n",
    "## Example"
   ]
  }
 ],
 "metadata": {
  "language_info": {
   "name": "python"
  }
 },
 "nbformat": 4,
 "nbformat_minor": 2
}
