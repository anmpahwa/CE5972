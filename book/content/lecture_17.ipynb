{
 "cells": [
  {
   "cell_type": "markdown",
   "metadata": {},
   "source": [
    "# Lecture 17: Transshipment Problem\n",
    "\n",
    "## General Description\n",
    "\n",
    "The Transshipment Problem is a generalized form of the Transportation Problem, where intermediate nodes, called transshipment nodes, are introduced between supply nodes and demand nodes. These nodes can serve as transfer nodes, where goods can be temporarily stored or redistributed. These transshipment nodes could include distribution centers, warehouses, or modal interchange hubs in a logistics network.\n",
    "\n",
    "Hence, the problem involves shipping goods from $m$ supply nodes to $n$ demand nodes via $p$ transshipment nodes. Here, each supply node has a maximum supply capacity of $s_i \\ \\forall \\ i \\in [1,m]$, and each demand node has a minimum demand requirement of $d_j \\ \\forall \\ j \\in [1,n]$. Likewise, each transshipment node has a maximum handling capacity of $q_k \\ \\forall \\ k \\in [1,p]$. Further, goods shipped from supply node $i$ to demand node $j$ through a trans-shipment node incur a cost $c_{ik}$ in the first leg and $c_{kj}$ in the second. Thus, the objective of the Transshipment Problem is to minimize the total transportation cost while satisfying the supply, demand, and transshipment constraints. \n",
    "\n",
    "Objective:\n",
    "\n",
    "$$\n",
    "\\min z = \\sum_{i=1}^{m} \\sum_{k=1}^{p} c_{ik}x_{ik} + \\sum_{j=1}^{n} \\sum_{k=1}^{p} c_{kj}x_{kj}\n",
    "$$\n",
    "\n",
    "Subject to:\n",
    "\n",
    "$$\n",
    "\\begin{aligned}\n",
    "\\sum_{k=1}^{p} x_{ik} & \\leq s_i & \\ \\forall \\ i \\in [1,m] \\\\\n",
    "\\sum_{k=1}^{p} x_{kj} & \\geq d_j & \\ \\forall \\ j \\in [1,n] \\\\\n",
    "\\sum_{i=1}^{m} x_{ik} & = \\sum_{j=1}^{n} x_{kj} & \\ \\forall \\ k \\in [1,p] \\\\\n",
    "\\sum_{i=1}^{m} x_{ik} & \\leq q_k & \\ \\forall \\ k \\in [1,p] \\\\\n",
    "x_{ik}, \\ x_{kj} & \\geq 0 & \\ \\forall \\ i \\in [1,m], \\ j \\in [1,n], \\ k \\in [1,p]\n",
    "\\end{aligned}\n",
    "$$\n",
    "\n",
    "Here $x_{ik}$ is the amount of goods flow between supply node $i$ and transhipment node $k$, while $x_{kj}$ is the amount of goods flow between transhipment node $k$ and demand node $j$.\n",
    "\n",
    "```{caution}\n",
    "The capacity constraint for transshipment nodes $\\sum_{i=1}^{m} x_{ik} \\leq q_k \\ \\forall \\ k \\in [1,p]$ assumes that all inflows occur in a single time-period, while all outflows occur in a seperate time-period. For instance, the goods may arrive at the transshipment node on a particular day, stored overnight, and then dispatched the next day.\n",
    "\n",
    "Further, flow balance at transhipment nodes $\\sum_{i=1}^{m} x_{ik} = \\sum_{j=1}^{n} x_{kj} \\ \\forall \\ k \\in [1,p]$ assumes no exchange between transhipment nodes.\n",
    "```\n",
    "\n",
    "```{tip}\n",
    "If direct flows from supply to demand nodes are permitted, then the Transshipment Problem must be modified to include a dummy uncapacitated transshipment node $o$ such that $c_{io} + c_{oj} = c_{ij} \\ \\forall i \\in [1,m], \\ j \\in [1,n]$ \n",
    "```\n",
    "\n",
    "## Example"
   ]
  }
 ],
 "metadata": {
  "language_info": {
   "name": "python"
  }
 },
 "nbformat": 4,
 "nbformat_minor": 2
}
