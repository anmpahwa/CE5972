{
 "cells": [
  {
   "cell_type": "markdown",
   "metadata": {},
   "source": [
    "# Lecture 24: Location Routing Problem\n",
    "\n",
    "## General Description\n",
    "\n",
    "A typical Location Routing Problem is defined on a directed graph $G=(D,C,A)$, where $D$ represents set of depot nodes, node set $C$ represents customer nodes, and arc set $A$ represents the set of arcs connecting these nodes. Each depot node $d \\in D$ has an associated set of delivery vehicles $V_d$, capacity $q_d$, as well as a fixed cost $c_d$ . Further, each customer node $c \\in C$ has a demand $q_c$ that must be fulfilled from one of the depot nodes via its delivery fleet, wherein each vehicle has a capacity $q_v$ and speed $s_v$. Given traversal cost $c_{ij}$ for arc $(i,j) \\in A$, the objective of a Location Routing Problem is to develop least cost routes from select distribution facilities using select vehicles such that every customer node is visited exactly once while satisfying all logistic constraints.\n",
    "\n",
    "Objective:\n",
    "\n",
    "$$\n",
    "\\min z = \\sum_{d \\in D} (c_d y_d + \\sum_{v \\in V_d} \\sum_{(i,j) \\in A} c_{ij}x^v_{ij})\n",
    "$$\n",
    "\n",
    "Subject to:\n",
    "\n",
    "$$\n",
    "\\begin{aligned}\n",
    "\\sum_{v \\in V} z^v_c & = 1 & \\ \\forall \\ c \\in C \\\\\n",
    "z^v_c & = \\sum_{j \\in H(c)} x^v_{cj} & \\ \\forall \\ c \\in C, \\ v \\in V_d, \\ d \\in D \\\\\n",
    "\\sum_{i \\in T(j)} x^v_{ij} & = \\sum_{k \\in H(j)} x^v_{jk} & \\ \\forall \\ j \\in N, \\ v \\in V_d, \\ d \\in D \\\\\n",
    "\\sum_{c \\in C} z^v_cq_c & \\leq q_v & \\ \\forall \\ v \\in V_d, \\ d \\in D \\\\\n",
    "\\sum_{v \\in V_d} \\sum_{c \\in C} z^v_cq_c & \\leq q_dy_d & \\ \\forall \\ d \\in D \\\\\n",
    "x^v_{ij} & \\in \\{0,1\\} & \\ \\forall \\ (i,j) \\in A, \\ v \\in V_d, \\ d \\in D \\\\\n",
    "y_d & \\in \\{0,1\\} & \\ \\forall \\ d \\in D \\\\\n",
    "z^v_c & \\in \\{0,1\\} & \\ \\forall \\ c \\in C, \\ v \\in V_d, \\ d \\in D\n",
    "\\end{aligned}\n",
    "$$\n",
    "\n",
    "Here, $x^v_{ij}$ represents traversal of arc $(i,j)$ by vehicle $v$, and $y_d$ represents depot node $d$ use, while $z^v_c$ represents service of customer $c$ by vehicle $v$.\n",
    "\n",
    "## Example"
   ]
  }
 ],
 "metadata": {
  "language_info": {
   "name": "python"
  }
 },
 "nbformat": 4,
 "nbformat_minor": 2
}
