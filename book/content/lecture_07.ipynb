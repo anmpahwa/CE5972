{
 "cells": [
  {
   "cell_type": "markdown",
   "metadata": {},
   "source": [
    "# Lecture 6: Spreadsheet-based Solution Methods\n",
    "\n",
    "For general $n$-dimensional linear programming problem, we will explore alterante tools for developing solutions, starting with spreadsheet-based methods in this lecture."
   ]
  }
 ],
 "metadata": {
  "language_info": {
   "name": "python"
  }
 },
 "nbformat": 4,
 "nbformat_minor": 2
}
