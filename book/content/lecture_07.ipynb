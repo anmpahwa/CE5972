{
 "cells": [
  {
   "cell_type": "markdown",
   "metadata": {},
   "source": [
    "# Lecture 7: Python Programming\n",
    "\n",
    "In the previous lecture, we used spreadsheet-based methods to solve nn-dimensional linear programming problems. In this lecture, we will explore Python libraries to tackle these problems more effectively."
   ]
  }
 ],
 "metadata": {
  "language_info": {
   "name": "python"
  }
 },
 "nbformat": 4,
 "nbformat_minor": 2
}
