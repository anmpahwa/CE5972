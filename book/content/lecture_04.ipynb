{
 "cells": [
  {
   "cell_type": "markdown",
   "metadata": {},
   "source": [
    "# Lecture 4\n",
    "\n",
    "Before we begin programming optimisation models, we will first cover some basics of linear algebra in this lecture.\n",
    "\n",
    "---\n",
    "\n",
    "## Linear Algebra\n",
    "\n",
    "### Vectors\n",
    "\n",
    "Vectors are an array of numbers arranged either in a column or in a row. Thus, a column vector with $n$ rows has a dimension of $n \\times 1$, while a row vector with $n$ columns has a dimension of $1 \\times n$.\n",
    "\n",
    "For example,\n",
    "\n",
    "$$\n",
    "\\mathbf{v} = \n",
    "\\begin{bmatrix}\n",
    "9 \\\\\n",
    "1 \\\\\n",
    "5 \\\\\n",
    "4 \\\\\n",
    "6 \\\\\n",
    "7\n",
    "\\end{bmatrix}_{6 \\times 1}\n",
    "\\quad\n",
    "\\mathbf{v} =\n",
    "\\begin{bmatrix}\n",
    "9 & 1 & 5 & 4 & 6 & 7\n",
    "\\end{bmatrix}_{1 \\times 6}\n",
    "$$\n",
    "\n",
    "Note, the $i^{th}$ element of vector $v$ is given by $v_i$.\n",
    "\n",
    "### Matrices\n",
    "\n",
    "A matrix is a rectangular array of numbers with $r$ rows and $c$ columns, thus having a dimension of $r \\times c$.\n",
    "\n",
    "For example,\n",
    "\n",
    "$$\n",
    "\\mathbf{M} = \n",
    "\\begin{bmatrix}\n",
    "9 & 1 & 5 \\\\\n",
    "4 & 6 & 7\n",
    "\\end{bmatrix}_{2 \\times 3}\n",
    "$$\n",
    "\n",
    "Note, the element from $i^{th}$ row and $j^{th}$ column of matrix $M$ is given by $m_{ij}$. \n",
    "\n",
    "### Operations\n",
    "\n",
    "- **Addition**\n",
    "    - Vector\n",
    "    \n"
   ]
  },
  {
   "cell_type": "code",
   "execution_count": 13,
   "metadata": {},
   "outputs": [
    {
     "data": {
      "image/png": "[encoded data removed]",
      "text/plain": [
       "<Figure size 640x480 with 1 Axes>"
      ]
     },
     "metadata": {},
     "output_type": "display_data"
    }
   ],
   "source": [
    "import matplotlib.pyplot as plt\n",
    "import numpy as np\n",
    "\n",
    "# Define vectors u, v, and w\n",
    "u = np.array([1, 2])\n",
    "v = np.array([2, 1])\n",
    "w = np.array([3, 3])\n",
    "\n",
    "# Set up the figure and axis\n",
    "fig, ax = plt.subplots()\n",
    "ax.set_xlim(0, 5)\n",
    "ax.set_ylim(0, 5)\n",
    "\n",
    "# Plot vectors u, v, and w\n",
    "ax.quiver(0, 0, u[0], u[1], angles='xy', scale_units='xy', scale=1, width = 0.005, color='blue')\n",
    "ax.quiver(0, 0, v[0], v[1], angles='xy', scale_units='xy', scale=1, width = 0.005, color='blue')\n",
    "ax.quiver(0, 0, w[0], w[1], angles='xy', scale_units='xy', scale=1, width = 0.005, color='red')\n",
    "\n",
    "# Annotate vectors\n",
    "ax.annotate(r'$\\mathbf{u}$: (1, 2)', (1.5, 2.5), textcoords=\"offset points\", xytext=(5,5), ha='center')\n",
    "ax.annotate(r'$\\mathbf{v}$: (2, 1)', (2.5, 1.5), textcoords=\"offset points\", xytext=(5,-10), ha='center')\n",
    "ax.annotate(r'$\\mathbf{w}$: (3, 3)', (3.5, 3.5), textcoords=\"offset points\", xytext=(-10,-10), ha='center')\n",
    "\n",
    "# Configure axis\n",
    "ax.axhline(0, color='black', linewidth=0.5)\n",
    "ax.axvline(0, color='black', linewidth=0.5)\n",
    "ax.grid(True, which='both')\n",
    "ax.set_xlabel(r'$x_1$')\n",
    "ax.set_ylabel(r'$x_2$')\n",
    "\n",
    "# Show plot\n",
    "plt.show()"
   ]
  },
  {
   "cell_type": "markdown",
   "metadata": {},
   "source": [
    "- **Multiplication**\n",
    "\n",
    "### System of Equations\n",
    "\n",
    "We will delve deeper into solving systems of equations later in the course.\n"
   ]
  }
 ],
 "metadata": {
  "kernelspec": {
   "display_name": "Python 3",
   "language": "python",
   "name": "python3"
  },
  "language_info": {
   "codemirror_mode": {
    "name": "ipython",
    "version": 3
   },
   "file_extension": ".py",
   "mimetype": "text/x-python",
   "name": "python",
   "nbconvert_exporter": "python",
   "pygments_lexer": "ipython3",
   "version": "3.13.0"
  }
 },
 "nbformat": 4,
 "nbformat_minor": 2
}
