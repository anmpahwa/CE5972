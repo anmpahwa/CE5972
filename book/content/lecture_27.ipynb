{
 "cells": [
  {
   "cell_type": "markdown",
   "metadata": {},
   "source": [
    "# Lecture 27: Introduction to Metaheuristics\n",
    "\n",
    "---\n",
    "\n",
    "Modern transportation systems leverage advanced technologies to enable data-driven decision-making for optimal performance of the transportation systems. Its applications span a diverse range of domains, including resourceful parking space allocation (parking system optimisation), optimal path-planning for autonomous vehicles (vehicle navigation optimisation), coordinated and synchronised transit operations planning (transit timetable and schedule optimisation), responsive management of on-demand transportation services (dial-a-ride problem), efficient delivery route design (vehicle routing problem), and effective traffic management (traffic signal optimisation, traffic assignment problem). These applications underscore the vital role of modern transportation systems in facilitating urban mobility which is characterised by dynamic and stochastic information, high-dimensional decision space, and large-scale datasets, thus necessitating use of advanced computational methods.\n",
    "\n",
    "## Parking System Optimisation\n",
    "\n",
    "San Francisco DownTown has $n$ unique parking lots, each with a $m_i$ number of parking spaces available. If drivers have preferences for parking lots based on proximity to their destination, how should the parking space be allocated such that each parking lot has an equitable usage.\n",
    "\n",
    "## Vehicle Navigation Optimisation\n",
    "\n",
    "\n",
    "## Vehicle Routing Problem\n",
    "\n",
    "A logistics company must deliver parcels to $n$ locations in a city using $m$ delivery vehicles. If each vehicle has a capacity of $q$ packages and a time window fo $t$ hours to complete the deliveries, how should the vehicles make delivery such that the total distance travel is minimised.\n",
    "\n",
    "```{warning}\n",
    "***High-dimensional decision space***: There exist at least $n!$ solutions to this problem.\n",
    "Dynamic and Stochastic information: Often customer demand arrives ...\n",
    "```\n",
    "\n",
    "## Transit \n",
    "\n",
    "To this end, metaheuristic algorithms have emerged as powerful tools to establish adaptive frameworks that can render near-optimal solutions to these complex transportation problems. Metaheuristics are mechanisms that guide solution search through solution landscape exploration (diversification) and exploitation (intensification). They can be broadly categorised as local search heuristics and population-based heuristics. Notably, local search heuristics iteratively refine solution by exploring and exploiting neighbourhoods of a solution to develop high-quality solution. On the other hand, population-based heuristics iteratively refine a population of solutions by leveraging interaction between different solutions to comprehensively explore and exploit the solution landscape, and thus develop high-quality solutions. Together, these metaheuristic procedures offer a flexible yet robust approach to solving complex optimisation problems inherent to modern transportation systems.\n",
    "\n",
    "\n",
    "### Table 1. Applications of Local Search and Population-Based Metaheuristics in modern transportation systems\n",
    "\n",
    "| Application                     | HC  | TS  | TA  | SA  | ILS | VNS | EC  | SI  |\n",
    "|---------------------------------|-----|-----|-----|-----|-----|-----|-----|-----|\n",
    "| Parking System Optimisation     | ✗   | ✗   | ✗   | ✗   | ✗   | ✗   | ✓   | ✓   |\n",
    "| Vehicle Navigation Optimisation | ✗   | ✗   | ✗   | ✓   | ✓   | ✗   | ✓   | ✓   |\n",
    "| Transit Operations Optimisation | ✗   | ✗   | ✓   | ✓   | ✗   | ✗   | ✓   | ✓   |\n",
    "| Dial-a-Ride Problem             | ✗   | ✓   | ✗   | ✓   | ✗   | ✓   | ✓   | ✓   |\n",
    "| Vehicle Routing Problem         | ✗   | ✓   | ✗   | ✓   | ✓   | ✓   | ✓   | ✓   |\n",
    "| Traffic Signal Optimisation     | ✓   | ✗   | ✗   | ✗   | ✓   | ✗   | ✓   | ✓   |\n",
    "| Traffic Assignment Problem      | ✗   | ✗   | ✗   | ✓   | ✗   | ✗   | ✓   | ✓   |\n",
    "\n",
    "**Legend:**\n",
    "- HC: Hill Climb\n",
    "- TS: Tabu Search\n",
    "- TA: Threshold Accepting\n",
    "- SA: Simulated Annealing\n",
    "- ILS: Iterative Local Search\n",
    "- VNS: Variable Neighbourhood Search\n",
    "- EC: Evolutionary Computation\n",
    "- SI: Swarm Intelligence"
   ]
  }
 ],
 "metadata": {
  "language_info": {
   "name": "python"
  }
 },
 "nbformat": 4,
 "nbformat_minor": 2
}
