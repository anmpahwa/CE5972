{
 "cells": [
  {
   "cell_type": "markdown",
   "metadata": {},
   "source": [
    "# Lecture 27: Introduction to Metaheuristics\n",
    "\n",
    "---\n",
    "\n",
    "### Table 1. Applications of Local Search and Population-Based Metaheuristics in ITS\n",
    "\n",
    "| Application                     | HC  | TS  | TA  | SA  | ILS | VNS | EC  | SI  |\n",
    "|---------------------------------|-----|-----|-----|-----|-----|-----|-----|-----|\n",
    "| Parking System Optimisation     | ✗   | ✗   | ✗   | ✗   | ✗   | ✗   | ✓   | ✓   |\n",
    "| Vehicle Navigation Optimisation | ✗   | ✗   | ✗   | ✓   | ✓   | ✗   | ✓   | ✓   |\n",
    "| Transit Operations Optimisation | ✗   | ✗   | ✓   | ✓   | ✗   | ✗   | ✓   | ✓   |\n",
    "| Dial-a-Ride Problem             | ✗   | ✓   | ✗   | ✓   | ✗   | ✓   | ✓   | ✓   |\n",
    "| Vehicle Routing Problem         | ✗   | ✓   | ✗   | ✓   | ✓   | ✓   | ✓   | ✓   |\n",
    "| Traffic Signal Optimisation     | ✓   | ✗   | ✗   | ✗   | ✓   | ✗   | ✓   | ✓   |\n",
    "| Traffic Assignment Problem      | ✗   | ✗   | ✗   | ✓   | ✗   | ✗   | ✓   | ✓   |\n",
    "\n",
    "**Legend:**\n",
    "- HC: Hill Climb\n",
    "- TS: Tabu Search\n",
    "- TA: Threshold Accepting\n",
    "- SA: Simulated Annealing\n",
    "- ILS: Iterative Local Search\n",
    "- VNS: Variable Neighbourhood Search\n",
    "- EC: Evolutionary Computation\n",
    "- SI: Swarm Intelligence"
   ]
  }
 ],
 "metadata": {
  "language_info": {
   "name": "python"
  }
 },
 "nbformat": 4,
 "nbformat_minor": 2
}
