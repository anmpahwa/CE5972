{
 "cells": [
  {
   "cell_type": "markdown",
   "metadata": {},
   "source": [
    "# Lecture 21: Travelling Salesman Problem\n",
    "\n",
    "## General Description\n",
    "\n",
    "For a network modeled as a directed graph $G=(N,A)$, with $N$ and $A$ representing the set of nodes and edges, respectively, the objective of a Travelling Salesman Problem is to develop a least cost route \n",
    "visiting every node exactly once, given that each edge $(i,j) \\in A$ has a cost $c_{ij}$.\n",
    "\n",
    "Objective:\n",
    "\n",
    "$$\n",
    "\\min z = \\sum_{(i,j)\\in A} c_{ij}x_{ij}\n",
    "$$\n",
    "\n",
    "Subject to:\n",
    "\n",
    "$$\n",
    "\\begin{aligned}\n",
    "\\sum_{i \\in T(j)} x_{ij} & = 1 & \\ \\forall \\ j \\in N \\\\\n",
    "\\sum_{i \\in T(j)} x_{ij} & = \\sum_{k \\in H(j)} x_{jk} & \\ \\forall \\ j \\in N \\\\\n",
    "\\sum_{(i,j) \\in S} x_{ij} & \\leq |S| - 1 & \\ \\forall \\ S \\subset N, \\ |S| \\geq 2 \\\\ \n",
    "x_{ij} & \\in \\{0,1\\} & \\ \\forall \\ (i,j) \\in A \\\\\n",
    "\\end{aligned}\n",
    "$$\n",
    "\n",
    "Here, $T(i)$ represents the set of predecessor (tail) nodes of node $i$, while $H(i)$ represents the set of successor (head) nodes, defined as follows,\n",
    "\n",
    "$$\n",
    "\\begin{aligned}\n",
    "T(i) & = \\{j; \\ (j,i) \\in A\\} \\\\\n",
    "H(i) & = \\{j; \\ (i,j) \\in A\\}\n",
    "\\end{aligned}\n",
    "$$\n",
    "\n",
    "Note, $x_{ij}$ represents traversal on edge $(i,j)$.\n",
    "\n",
    "```{note}\n",
    "$\\sum_{(i,j) \\in S} x_{ij} \\leq |S| - 1 \\ \\forall \\ S \\subset N, \\ |S| \\geq 2$ is a subtour elimination constraint preventing the optimisation model from yeilding a solution where the nodes are visited in separate, smaller tours instead of a single, large tour.\n",
    "\n",
    "## Example"
   ]
  }
 ],
 "metadata": {
  "language_info": {
   "name": "python"
  }
 },
 "nbformat": 4,
 "nbformat_minor": 2
}
