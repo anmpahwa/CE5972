{
 "cells": [
  {
   "cell_type": "markdown",
   "metadata": {},
   "source": [
    "# Lecture 21: Least-Cost Path Problem\n",
    "\n",
    "## General Description\n",
    "\n",
    "For a network modeled as a directed graph $G=(N,A)$, with $N$ and $A$ representing the set of nodes and arcs, respectively, the objective of a Least-Cost Problem is to find the path from an origin node $r$ to a destination node $s$ that renders least possible cost, given that each arc $(i,j) \\in A$ has a cost $c_{ij}$.\n",
    "\n",
    "Objective:\n",
    "\n",
    "$$\n",
    "\\min z = \\sum_{(i,j)\\in A} c_{ij}x_{ij}\n",
    "$$\n",
    "\n",
    "Subject to:\n",
    "\n",
    "$$\n",
    "\\begin{aligned}\n",
    "\\sum_{i \\in T(r)} x_{ir} & = 1 \\\\\n",
    "\\sum_{j \\in H(s)} x_{sj} & = 1 \\\\\n",
    "\\sum_{i \\in T(j)} x_{ij} & = \\sum_{k \\in H(j)} x_{jk} & \\ \\forall \\ j \\in N \\\\\n",
    "x_{ij} & \\in \\{0,1\\} & \\ \\forall \\ (i,j) \\in A \\\\\n",
    "\\end{aligned}\n",
    "$$\n",
    "\n",
    "Here, $T(i)$ represents the set of predecessor (tail) nodes of node $i$, while $H(i)$ represents the set of successor (head) nodes, defined as follows,\n",
    "\n",
    "$$\n",
    "\\begin{aligned}\n",
    "T(i) & = \\{j; \\ (j,i) \\in A\\} \\\\\n",
    "H(i) & = \\{j; \\ (i,j) \\in A\\}\n",
    "\\end{aligned}\n",
    "$$\n",
    "\n",
    "Note, $x_{ij}$ represents traversal on arc $(i,j)$.\n",
    "\n",
    "## Example"
   ]
  }
 ],
 "metadata": {
  "language_info": {
   "name": "python"
  }
 },
 "nbformat": 4,
 "nbformat_minor": 2
}
