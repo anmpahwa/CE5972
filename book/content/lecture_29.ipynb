{
 "cells": [
  {
   "cell_type": "markdown",
   "metadata": {},
   "source": [
    "# Lecture 29: Tabu Search\n",
    "\n",
    "```{note}\n",
    "...\n",
    "```\n",
    "---\n",
    "\n",
    "## Overview\n",
    "\n",
    "Unlike the Hill Climb algorithm, the Tabu Search algorithm navigates the solution space while avoiding local optima traps. To do so, the algorithm utilises a tabu list – $s_T$, that keeps a track of recently visited solutions, and an acceptance list – $s_A$, that stores certain desirable solutions. The algorithm initialises them as empty lists, while the current and the best solution – $s,s^*$, are set to the initial solution – $s_o$. Hereafter, in each iteration, the algorithm generates a set of k random candidate solutions – $s'$, from the neighbourhood of the current solution – $N(s)$, based on the solution transformations defined by the neighbourhood. From these neighbourhood solutions, the algorithm selects the candidate solution with the least objective function value – $f$, that satisfies the tabu and acceptance criterion, and sets it as the current solution. In addition, if this current solution is better than the best solution, then the algorithm updates the best solution as well. After this, the Tabu Search algorithm adds the current solution to the tabu list to prevent the search from cycling back to this solution. However, to avoid the list from growing indefinitely, the algorithm may remove the oldest solution from the list, maintaining a size of a maximum of m solutions. Hence, the tabu list behaves like a short-term memory of recently visited solutions that the algorithm needs to avoid. Nonetheless, certain previously visited solutions maybe desirable due to their proximity to the best solution, and hence allowed to recycle through the iterations. To this end, the algorithm adds the current solution to the acceptance list if it is within p-proximity of the best solution. This enables the algorithm to overrule the tabu criterion when updating the current solution (refer to Line 8-9). This iterative process continues until the algorithm meets the convergence conditions pertaining to computation effort or solution quality, returning the best solution in the end.\n",
    "\n",
    "Note, unlike the exclusively exploitative Hill Climb algorithm, the Tabu Search algorithm balances exploration and exploitation of the solution landscape. It does so by keeping a track of recently visited solutions to avoid, thus forcing domain space exploration (diversification), while storing desirable solutions to recycle, thus enabling exploitation (intensification). Nonetheless, the exploration-exploitation balance is contingent on input parameters, namely, number of candidate solutions $k$, size of the tabu list $m$, and proximity parameter $p$. Thus, effective use of the Tabu Search algorithm requires sophisticated parameter fine-tuning for practical applications.\n",
    "\n",
    "---\n",
    "\n",
    "## Pseudo Code\n",
    "\n",
    "1. **Procedure** $\\text{TS}(s_o, (N, k, m, p))$\n",
    "2. $s ← s_o$ &emsp;<small>// initialise current solution $s$ as the initial solution $s_o$</small>\n",
    "3. $s^* ← s$ &emsp;<small>// initialise best solution $s^*$ as the current solution</small>\n",
    "4. $s_T ← \\{\\}$ &emsp;<small>// initialise tabu list $s_T$</small>\n",
    "5. $s_A ← \\{\\}$ &emsp;<small>// initialise acceptance list $s_A$</small>\n",
    "6. **while** $!\\text{converged}$ **do** &emsp;<small>// repeat until converged</small>\n",
    "7. &emsp;$s' {R \\atop ←} \\{s'; s' ∈ N(s)\\}_k$ &emsp;<small>// generate $k$ random candidates from neighborhood $N$ of the current solution</small>\n",
    "8. &emsp;$s' ← \\text{argmin} \\{f(s); s ∈ s', s ∉ s_T \\cup s_A\\}$ &emsp;<small>// set new solution to the best feasible candidate solution</small>\n",
    "9. &emsp;$s ← s'$ &emsp;<small>// update the current solution to the new solution</small>\n",
    "10. &emsp;**if** $f(s) < f(s^*)$ **then** &emsp;<small>// if the current solution is better than the best solution</small>\n",
    "11. &emsp;&emsp;$s^* ← s$ &emsp;<small>// update the best solution to the current solution</small>\n",
    "12. &emsp;**end if**\n",
    "13. &emsp;$s_T ← s_T \\cup \\{s\\}$ &emsp;<small>// add the current solution to the tabu list</small>\n",
    "14. &emsp;**if** $||s_T|| > m$ **then** &emsp;<small>// if size of the tabu list is greater than the maximum size $m$</small>\n",
    "15. &emsp;&emsp;$\\text{pop}(s_T)$ &emsp;<small>// remove the oldest solution from the tabu list</small>\n",
    "16. &emsp;**end if**\n",
    "17. &emsp;**if** $f(s) < (1 + p)f(s^*)$ **then** &emsp;<small>// if the current solution satisfies acceptance criterion $p$</small>\n",
    "18. &emsp;&emsp;$s_A ← s_A \\cup \\{s'\\}$ &emsp;<small>// add the solution to the acceptance list</small>\n",
    "19. &emsp;**end if**\n",
    "20. **end while**\n",
    "21. **return** $s^*$ &emsp;<small>// return the best solution</small>\n",
    "\n",
    "---\n",
    "\n",
    "## Implementation\n",
    "\n",
    "---\n",
    "\n",
    "## Case Study\n",
    "\n",
    "---\n",
    "\n",
    "```{note}\n",
    "...\n",
    "```"
   ]
  }
 ],
 "metadata": {
  "language_info": {
   "name": "python"
  }
 },
 "nbformat": 4,
 "nbformat_minor": 2
}
