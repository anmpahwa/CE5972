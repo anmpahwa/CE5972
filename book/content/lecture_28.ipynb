{
 "cells": [
  {
   "cell_type": "markdown",
   "metadata": {},
   "source": [
    "# Lecture 28: Hill Climb Algorithm\n",
    "\n",
    "```{note}\n",
    "...\n",
    "```\n",
    "---\n",
    "\n",
    "The Hill Climb algorithm is one of the most rudimentary local search heuristics. It begins with the current solution – $s$, and the best solution – $s^*$, both, set to the initial solution – $s_o$. Hereafter, in each iteration, the algorithm generates a set of k random candidate solutions – $s'$, from the neighbourhood of the current solution - $N(s)$. Here, the neighbourhood represents all solutions reachable from the current solution through a defined set of solution transformations. From these neighbourhood solutions, the algorithm then selects the best candidate solution, i.e., the one with lowest objective function value – $f$, and sets it as the current solution. In addition, if this current solution is better than the best solution, then the algorithm updates the best solution as well. This iterative process continues until convergence conditions are met. These conditions can include a specified number of total iterations, a threshold number of iterations since last improvement, an acceptable objective function value, or a tolerance level for improvements in solution quality between consecutive iterations. Finally, upon convergence, the algorithm returns the best solution.\n",
    "\n",
    "## Algorithm: Hill Climb (HC)\n",
    "\n",
    "1. **Procedure** `HC(s_o, (N, k))`\n",
    "2. `s ← s_o` // initialize current solution `s` as the initial solution `s_o`\n",
    "3. `s^* ← s` // initialize best solution `s^*` as the current solution\n",
    "4. **while** `!converged` **do** // repeat until converged\n",
    "5. &nbsp;&nbsp;&nbsp;&nbsp;`s' ← RandomSubset({s'; s' ∈ N(s)}, k)` // generate `k` random candidates from neighborhood `N` of the current solution\n",
    "6. &nbsp;&nbsp;&nbsp;&nbsp;`s' ← argmin {f(s); s ∈ s'}` // set new solution to the best candidate solution\n",
    "7. &nbsp;&nbsp;&nbsp;&nbsp;`s ← s'` // update the current solution to the new solution\n",
    "8. &nbsp;&nbsp;&nbsp;&nbsp;**if** `f(s) < f(s^*)` **then** // if the current solution is better than the best solution\n",
    "9. &nbsp;&nbsp;&nbsp;&nbsp;&nbsp;&nbsp;&nbsp;&nbsp;`s^* ← s` // update the best solution to the current solution\n",
    "10. &nbsp;&nbsp;&nbsp;&nbsp;**end if**\n",
    "11. **end while**\n",
    "12. **return** `s^*` // return the best solution\n"
   ]
  }
 ],
 "metadata": {
  "language_info": {
   "name": "python"
  }
 },
 "nbformat": 4,
 "nbformat_minor": 2
}
