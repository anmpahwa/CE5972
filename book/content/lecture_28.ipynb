{
 "cells": [
  {
   "cell_type": "markdown",
   "metadata": {},
   "source": [
    "# Lecture 28: Hill Climb\n",
    "\n",
    "```{note}\n",
    "...\n",
    "```\n",
    "---\n",
    "\n",
    "The Hill Climb algorithm is one of the most rudimentary local search heuristics. It begins with the current solution – $s$, and the best solution – $s^*$, both, set to the initial solution – $s_o$. Hereafter, in each iteration, the algorithm generates a set of k random candidate solutions – $s'$, from the neighbourhood of the current solution - $N(s)$. Here, the neighbourhood represents all solutions reachable from the current solution through a defined set of solution transformations. From these neighbourhood solutions, the algorithm then selects the best candidate solution, i.e., the one with lowest objective function value – $f$, and sets it as the current solution. In addition, if this current solution is better than the best solution, then the algorithm updates the best solution as well. This iterative process continues until convergence conditions are met. These conditions can include a specified number of total iterations, a threshold number of iterations since last improvement, an acceptable objective function value, or a tolerance level for improvements in solution quality between consecutive iterations. Finally, upon convergence, the algorithm returns the best solution.\n",
    "\n",
    "Hence, the Hill Climb algorithm offers a minimal and rapid solution procedure for addressing elementary optimisation problems in Transportation Engineering. In particular, the exclusively exploitative nature of the algorithm makes it suitable only for unimodal solution landscapes, wherein only a single global optimal exists. In the presence of local optimal solutions, as is the case with multimodal solution landscapes, the algorithm struggles to find good solutions due to its incapability to explore the domain space. To this end, local search heuristics that strike a balance between domain space exploitation and exploration prove to be more effective tools for more sophisticated optimisation problems in Transportation Engineering. \n",
    "\n",
    "---\n",
    "\n",
    "1. **Procedure** $HC(s_o, (N, k))$\n",
    "2. $s ← s_o$ <small>// initialize current solution $s$ as the initial solution $s_o$</small>\n",
    "3. $s^* ← s$ <small>// initialize best solution $s^*$ as the current solution</small>\n",
    "4. **while** $!converged$ **do** <small>// repeat until converged</small>\n",
    "5. &emsp;$s' {R \\atop ←} \\{s'; s' ∈ N(s)\\}_k$ <small>// generate $k$ random candidates from neighborhood $N$ of the current solution</small>\n",
    "6. &emsp;$s' ← \\text{argmin} \\{f(s); s ∈ s'\\}$ <small>// set new solution to the best candidate solution</small>\n",
    "7. &emsp;$s ← s'$ <small>// update the current solution to the new solution</small>\n",
    "8. &emsp;**if** $f(s) < f(s^*)$ **then** <small>// if the current solution is better than the best solution</small>\n",
    "9. &emsp;&emsp;$s^* ← s$ <small>// update the best solution to the current solution</small>\n",
    "10. &emsp;**end if**\n",
    "11. **end while**\n",
    "12. **return** $s^*$ <small>// return the best solution</small>\n",
    "\n",
    "---\n"
   ]
  }
 ],
 "metadata": {
  "language_info": {
   "name": "python"
  }
 },
 "nbformat": 4,
 "nbformat_minor": 2
}
