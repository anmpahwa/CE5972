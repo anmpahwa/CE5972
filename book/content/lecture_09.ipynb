{
 "cells": [
  {
   "cell_type": "markdown",
   "metadata": {},
   "source": [
    "# Lecture 9: Python Programming\n",
    "\n",
    "In the previous lecture, we used spreadsheet-based methods to solve $n$-dimensional linear programming problems. In this lecture, we will explore Python libraries to tackle these problems more effectively.\n",
    "\n",
    "---\n",
    "\n",
    "## Example #1\n",
    "\n",
    "Consider a textile firm operating in Kochi. This company needs to ship 100 tons of textile goods from Kanchipuram and can rent two types of trucks: T1 and T2. Each truck of type T1 can carry 10 tons of goods and costs ₹5000 per trip, while each truck of type T2 can carry 20 tons and costs ₹8000 per trip. Considering the managerial capacity of the firm (warehouse capacity, staff numbers, etc.), the management committee has imposed an upper limit on truck rental of 20 trucks in total, with a maximum of 12 any individual type of truck. Thus, all things considered, how many T1 and T2 type trucks should the company deploy so as to minimize the total costs?\n",
    "\n",
    "Objective:\n",
    "\n",
    "$$\n",
    "\\min_{x_1, x_2} \\ Z = 5000x_1 + 8000x_2\n",
    "$$\n",
    "\n",
    "Subject to:\n",
    "\n",
    "$$\n",
    "\\begin{aligned}\n",
    "  & 10x_1 + 20x_2 \\geq 100 \\\\\n",
    "  & x_1 + x_2 \\leq 20 \\\\\n",
    "  & x_1 \\leq 12 \\\\\n",
    "  & x_2 \\leq 12 \\\\\n",
    "  & x_1, x_2 \\geq 0\n",
    "\\end{aligned}\n",
    "$$"
   ]
  },
  {
   "cell_type": "code",
   "execution_count": 12,
   "metadata": {},
   "outputs": [
    {
     "name": "stdout",
     "output_type": "stream",
     "text": [
      "Optimal number of T1 trucks: 0.0, T2 trucks: 5.0\n",
      "Minimum Cost: 40000.0\n"
     ]
    }
   ],
   "source": [
    "from scipy.optimize import linprog\n",
    "\n",
    "# Cost Parameter\n",
    "c = [5000, 8000]\n",
    "\n",
    "# Constraint Parameter (Coefficients)\n",
    "a = [[-10, -20], [1, 1], [1, 0], [0, 1]]\n",
    "\n",
    "# Constraint Parameter (Limits)\n",
    "b = [-100, 20, 12, 12]\n",
    "\n",
    "# Domain Constraints\n",
    "x1_bounds = (0, None)\n",
    "x2_bounds = (0, None)\n",
    "bounds = [x1_bounds, x2_bounds]\n",
    "\n",
    "# Solve\n",
    "result = linprog(c, A_ub=a, b_ub=b, bounds=bounds, method='highs')\n",
    "print(f\"Optimal number of T1 trucks: {result.x[0]}, T2 trucks: {result.x[1]}\")\n",
    "print(f\"Minimum Cost: {result.fun}\")"
   ]
  },
  {
   "cell_type": "markdown",
   "metadata": {},
   "source": [
    "## Example #2\n",
    "\n",
    "The Southern Railways wants to start a new daily Vande-Bharat (VB) service between Chennai and Rameshwaram. However, the daily passenger demand is stochastic (uncertain) and follows a normal distribution – with a mean of 900 and standard deviation of 100 for the economy class, and a mean of 30 and standard deviation of 10 for the executive class. Note, the standard 78-capacity economy class coach amounts to ₹50,000 in daily operational costs and generates an average revenue of ₹750 per seat. On the other hand, the standard 52-capacity executive class coach amounts to ₹55,000 in daily operational costs and generates an average revenue of ₹2000 per seat. Assuming that a minimum of 16 coaches must be deployed, how many economy and executive coaches should the Southern Railways deploy in the VB so as to maximize the profits while maintaining a 95% service level (satisfying passenger demand on 95% of the days)?\n",
    "\n",
    "Objective:\n",
    "\n",
    "$$\n",
    "\\max_{x_1, x_2} \\ Z = 1000 \\times 750 + 30 \\times 2000 - 50000x_1 - 55000x_2\n",
    "$$\n",
    "\n",
    "Subject to:\n",
    "\n",
    "$$\n",
    "\\begin{aligned}\n",
    "  & 78x_1 \\geq 900 + 100z^{0.95} \\\\\n",
    "  & 52x_2 \\geq 30 + 10z^{0.95} \\\\\n",
    "  & x_1 + x_2 \\geq 16 \\\\\n",
    "  & x_1, x_2 \\in \\mathbb{Z}_+\n",
    "\\end{aligned}\n",
    "$$"
   ]
  },
  {
   "cell_type": "code",
   "execution_count": 13,
   "metadata": {},
   "outputs": [
    {
     "name": "stdout",
     "output_type": "stream",
     "text": [
      "Optimal number of economy class coach: 15.0, executive class coach: 1.0\n",
      "Maximum Profit: 545000.0\n"
     ]
    }
   ],
   "source": [
    "from scipy.optimize import linprog\n",
    "\n",
    "# Cost Parameter\n",
    "c = [50000, 55000]\n",
    "\n",
    "# Constraint Parameter (Coefficients)\n",
    "a = [[-78, 0], [0, -52], [-1, -1]]\n",
    "\n",
    "# Constraint Parameter (Limits)\n",
    "b = [-1064.5, -46.4, -16]\n",
    "\n",
    "# Domain Constraints\n",
    "bounds = [(0, None), (0, None)]\n",
    "integrality = [1, 1]\n",
    "\n",
    "# Solve\n",
    "result = linprog(c, A_ub=a, b_ub=b, bounds=bounds, integrality=integrality, method='highs')\n",
    "print(f\"Optimal number of economy class coach: {result.x[0]}, executive class coach: {result.x[1]}\")\n",
    "print(f\"Maximum Profit: {1000 * 750 + 30 * 20000 - result.fun}\")"
   ]
  },
  {
   "cell_type": "markdown",
   "metadata": {},
   "source": [
    "## Example #3\n",
    "\n",
    "Consider a public bus operator (government-owned) providing service between Chennai and Tirumala. Owing to the variation of demand through the day, the operator requires a different number of buses during different time periods of the day (see table below). Further, due to congestion, the operational costs of a bus – which include driver, fuel, and maintenance costs, also vary through the day (see table below). Note, to maintain a minimum level of service, the operator is regulated to not reduce service by more than 3 buses between any two consecutive time periods. Thus, how many buses should the operator run during different time periods so as to minimize the costs?\n",
    "\n",
    "| Time-period   | Number of buses required | Operational cost |\n",
    "|---------------|--------------------------|------------------|\n",
    "| 06 AM – 09 AM | 20                       | ₹1500            |\n",
    "| 09 AM – 12 PM | 15                       | ₹900             |\n",
    "| 12 PM – 03 PM | 8                        | ₹600             |\n",
    "| 03 PM – 06 PM | 10                       | ₹800             |\n",
    "| 06 PM – 09 PM | 18                       | ₹1400            |\n",
    "| 09 PM – 12 AM | 4                        | ₹1000            |\n",
    "\n",
    "Objective:\n",
    "\n",
    "$$\n",
    "\\min_{\\mathbf{x}} \\ Z = 1500x_1 + 900x_2 + 600x_3 + 800x_4 + 1400x_5 + 1000x_6\n",
    "$$\n",
    "\n",
    "Subject to:\n",
    "\n",
    "$$\n",
    "\\begin{aligned}\n",
    "  & x_1 \\geq 20 \\\\\n",
    "  & x_2 \\geq 15 \\\\\n",
    "  & x_3 \\geq 8 \\\\\n",
    "  & x_4 \\geq 10 \\\\\n",
    "  & x_5 \\geq 18 \\\\\n",
    "  & x_6 \\geq 4 \\\\\n",
    "  & x_1 - x_2 \\leq 3 \\\\\n",
    "  & x_2 - x_3 \\leq 3 \\\\\n",
    "  & x_3 - x_4 \\leq 3 \\\\\n",
    "  & x_4 - x_5 \\leq 3 \\\\\n",
    "  & x_5 - x_6 \\leq 3 \\\\\n",
    "  & x_i \\in \\mathbb{Z}_+ \\ \\forall i\n",
    "\\end{aligned}\n",
    "$$"
   ]
  },
  {
   "cell_type": "code",
   "execution_count": 16,
   "metadata": {},
   "outputs": [
    {
     "name": "stdout",
     "output_type": "stream",
     "text": [
      "Optimal number of buses in each time period are: [20. 17. 14. 11. 18. 15.]\n",
      "Minimum Cost: 102700.0\n"
     ]
    }
   ],
   "source": [
    "from scipy.optimize import linprog\n",
    "\n",
    "# Cost Parameter\n",
    "c = [1500, 900, 600, 800, 1400, 1000]\n",
    "\n",
    "# Constraint Parameter (Coefficients)\n",
    "a = [[-1, 0, 0, 0, 0, 0], [0, -1, 0, 0, 0, 0], [0, 0, -1, 0, 0, 0], [0, 0, 0, -1, 0, 0], [0, 0, 0, 0, -1, 0], [0, 0, 0, 0, 0, -1],\n",
    "     [1, -1, 0, 0, 0, 0], [0, 1, -1, 0, 0, 0], [0, 0, 1, -1, 0, 0], [0, 0, 0, 1, -1, 0], [0, 0, 0, 0, 1, -1]]\n",
    "\n",
    "# Constraint Parameter (Limits)\n",
    "b = [-20, -15, -8, -10, -18, -4, 3, 3, 3, 3, 3]\n",
    "\n",
    "# Domain Constraints\n",
    "bounds = [(0, None), (0, None), (0, None), (0, None), (0, None), (0, None)]\n",
    "integrality = [1, 1, 1, 1, 1, 1]\n",
    "\n",
    "# Solve\n",
    "result = linprog(c, A_ub=a, b_ub=b, bounds=bounds, integrality=integrality, method='highs')\n",
    "print(f\"Optimal number of buses in each time period are: {result.x}\")\n",
    "print(f\"Minimum Cost: {result.fun}\")"
   ]
  },
  {
   "cell_type": "markdown",
   "metadata": {},
   "source": [
    "\n",
    "---\n",
    "\n",
    "Here again, the following problem is non-linear, we shall briefly explore use of Python programming language to address non-linear optimisation through this problem. However, later in this course, we will explore solution methods for non-linear optimisation problems in transportation engineering in more detail.\n",
    "\n",
    "## Example #4\n",
    "\n",
    "Consider a highway management firm that operates and maintains the expressway connecting Chennai with Bangalore. The highway management firm wants to set toll price $p_1$ for private vehicles and $p_2$ for commercial vehicles, to collect toll revenue on this highway. However, the National Highways Authority of India (NHAI) wants to facilitate sufficient flow between Chennai and Bangalore, ensuring that at least 1000 private and 1500 commercial vehicles each use the expressway during the peak hour. Note, the peak hour expressway traffic for private and commercial vehicles is subject to respective toll prices, and is given by $Q_1(p_1)$ and $Q_2(p_2)$, respectively. Nonetheless, the NHAI also wants to ensure sufficient tax collection, requiring toll price to at least be ₹150. Considering these regulations, what toll prices should the firm set so as to maximize the toll revenue?\n",
    "\n",
    "Obective:\n",
    "\n",
    "$$\n",
    "\\max_{p_1, p_2} \\ Z = p_1 (5000 - 20p_1) + p_2 \\left(6000 - 0.05p_2^2 \\right)\n",
    "$$\n",
    "\n",
    "Subject to:\n",
    "\n",
    "$$\n",
    "\\begin{aligned}\n",
    "  & 5000 - 20p_1 \\geq 1000 \\\\\n",
    "  & 6000 - 0.05p_2^2 \\geq 1500 \\\\\n",
    "  & p_1 \\geq 150 \\\\\n",
    "  & p_2 \\geq 150 \\\\\n",
    "  & p_1, p_2 \\in \\mathbb{Z}_+\n",
    "\\end{aligned}\n",
    "$$"
   ]
  },
  {
   "cell_type": "code",
   "execution_count": null,
   "metadata": {},
   "outputs": [
    {
     "name": "stdout",
     "output_type": "stream",
     "text": [
      "Optimal toll price for private vehicles: ₹149.99999999991076\n",
      "Optimal toll price for commercial vehicles: ₹200.0\n",
      "Maximum Toll Revenue: ₹1100000.0000000892\n"
     ]
    }
   ],
   "source": [
    "from scipy.optimize import minimize\n",
    "\n",
    "# Objective function\n",
    "def toll_revenue(x):\n",
    "    p1, p2 = x\n",
    "    return -(p1 * (5000 - 20 * p1) + p2 * (6000 - 0.05 * p2 ** 2))\n",
    "\n",
    "# Constraints\n",
    "constraints = [\n",
    "    {\"type\": \"ineq\", \"fun\": lambda x: 5000 - 20 * x[0] - 1000},\n",
    "    {\"type\": \"ineq\", \"fun\": lambda x: 6000 - 0.05 * x[1] ** 2 - 1500},\n",
    "    {\"type\": \"ineq\", \"fun\": lambda x: x[0] - 150},\n",
    "    {\"type\": \"ineq\", \"fun\": lambda x: x[1] - 150}\n",
    "]\n",
    "\n",
    "# Initial guess\n",
    "initial_guess = [200, 200]\n",
    "\n",
    "# Solve the nonlinear program\n",
    "result = minimize(toll_revenue, initial_guess, constraints=constraints)\n",
    "p1_opt, p2_opt = result.x\n",
    "print(f\"Optimal toll price for private vehicles: ₹{p1_opt}\")\n",
    "print(f\"Optimal toll price for commercial vehicles: ₹{p2_opt}\")\n",
    "print(f\"Maximum Toll Revenue: ₹{-result.fun}\")"
   ]
  },
  {
   "cell_type": "markdown",
   "metadata": {},
   "source": [
    "\n",
    "---\n",
    "\n",
    "The computational tolls discussed in the recent lectures deploy the Simplex Algorithm in the backend to solve the linear optimisation problems. In the next few lectures we shall discuss this Simplex Algorithm in more detail to develop fundamental knowledge on how to solve the $n$-dimensional linear problems."
   ]
  }
 ],
 "metadata": {
  "kernelspec": {
   "display_name": "Python 3",
   "language": "python",
   "name": "python3"
  },
  "language_info": {
   "codemirror_mode": {
    "name": "ipython",
    "version": 3
   },
   "file_extension": ".py",
   "mimetype": "text/x-python",
   "name": "python",
   "nbconvert_exporter": "python",
   "pygments_lexer": "ipython3",
   "version": "3.13.0"
  }
 },
 "nbformat": 4,
 "nbformat_minor": 2
}
