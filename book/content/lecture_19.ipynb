{
 "cells": [
  {
   "cell_type": "markdown",
   "metadata": {},
   "source": [
    "# Lecture 19: Minimum Spanning Tree Problem\n",
    "\n",
    "## General Description\n",
    "\n",
    "For a network modeled as a directed graph $G=(N,A)$, with $N$ and $A$ representing the set of nodes and arcs, respectively, the objective of a Minimum Spanning Tree is to find a subset of arcs (tree) that connects all nodes with a minimum total cost, given that each arc $(i,j) \\in A$ has a cost $c_{ij}$.\n",
    "\n",
    "$$\n",
    "\\min z = \\sum_{(i,j)\\in A} c_{ij}x_{ij}\n",
    "$$\n",
    "\n",
    "Subject to:\n",
    "\n",
    "$$\n",
    "\\begin{aligned}\n",
    "\\sum_{(i,j) \\in E} x_{ij} & = |N| - 1 \\\\\n",
    "\\sum_{(i,j) \\in E, \\ i \\in S, \\ j \\notin S} x_{ij} & \\geq 1 & \\ \\forall \\ S \\subset N, \\ |S| \\neq 0 \\\\ \n",
    "x_{ij} & \\in \\{0,1\\} & \\ \\forall \\ (i,j) \\in A \\\\\n",
    "\\end{aligned}\n",
    "$$\n",
    "\n",
    "Here, $x_{ij}$ represents connectivity of node $i$ with node $j$ in the spanning tree.\n",
    "\n",
    "## Example"
   ]
  }
 ],
 "metadata": {
  "language_info": {
   "name": "python"
  }
 },
 "nbformat": 4,
 "nbformat_minor": 2
}
