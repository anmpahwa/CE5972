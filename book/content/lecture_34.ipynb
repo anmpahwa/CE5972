{
 "cells": [
  {
   "cell_type": "markdown",
   "metadata": {},
   "source": [
    "# Lecture 34: Evolutionary Computation\n",
    "\n",
    "```{note}\n",
    "...\n",
    "```\n",
    "---\n",
    "\n",
    "## Overview\n",
    "\n",
    "...\n",
    "\n",
    "---\n",
    "\n",
    "## Pseudo Code\n",
    "\n",
    "1. **Procedure** $\\text{EC}(s_o, ((\\text{SM}, \\mu), (\\text{CM}, \\lambda, \\rho), (\\text{MM}, \\epsilon), (\\text{NM}, \\sigma)))$\n",
    "2. $s ← s_o$ &emsp;<small>// set the current population $s$ to the initial population $s_o$</small>\n",
    "3. $s ← \\text{argmin} \\{f(s); s ∈ s\\}$ &emsp;<small>// find the local best solution in the current population</small>\n",
    "4. $s^* ← s$ &emsp;<small>// set the global best solution $s^*$ to the local best solution</small>\n",
    "5. **while** $!\\text{converged}$ **do** &emsp;<small>// repeat until converged</small>\n",
    "6. &emsp;$s_p ← \\text{SM}(s, \\mu)$ &emsp;<small>// select $\\mu$ parent solutions from the current population using selection method $\\text{SM}$</small>\n",
    "7. &emsp;$s_c ← \\text{CM}(s_p, \\lambda, \\rho)$ &emsp;<small>// with $\\rho$ parents procreating one offspring, generate $\\lambda$ offspring solutions using crossover method $\\text{CM}$</small>\n",
    "8. &emsp;$s_c ← \\text{MM}(s_c, \\epsilon)$ &emsp;<small>// mutate selected offspring solutions using mutation method $\\text{MM}$ with a small probability $\\epsilon$</small>\n",
    "9. &emsp;$s ← \\text{NM}(s ∪ s_c, \\sigma)$ &emsp;<small>// perform natural selection on the current population and their offsprings using natural selection method $\\text{NM}$, accounting for diversity criteria $\\sigma$</small>\n",
    "10. &emsp;$s ← \\text{argmin} \\{f(s); s ∈ s\\}$ &emsp;<small>// find the local best solution from the current population</small>\n",
    "11. &emsp;**if** $f(s) < f(s^*)$ **then** &emsp;<small>// if the local best solution is better than the global best solution</small>\n",
    "12. &emsp;&emsp;$s^* ← s$ &emsp;<small>// update the global best solution to the local best solution</small>\n",
    "13. &emsp;**end if**\n",
    "14. **end while**\n",
    "15. **return** $s^*$ &emsp;<small>// return the best solution</small>\n",
    "\n",
    "---\n",
    "\n",
    "## Implementation\n",
    "\n",
    "---\n",
    "\n",
    "## Case Study\n",
    "\n",
    "---\n",
    "\n",
    "```{note}\n",
    "...\n",
    "```"
   ]
  }
 ],
 "metadata": {
  "language_info": {
   "name": "python"
  }
 },
 "nbformat": 4,
 "nbformat_minor": 2
}
