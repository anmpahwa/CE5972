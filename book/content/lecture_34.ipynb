{
 "cells": [
  {
   "cell_type": "markdown",
   "metadata": {},
   "source": [
    "# Lecture 34: Variable Neighbourhood Search\n",
    "\n",
    "---\n",
    "\n",
    "## Overview\n",
    "\n",
    "Unlike any of the previously discussed algorithms, the Variable Neighbourhood Search algorithm concomitantly explores multiple neighbourhoods in the solution landscape to comprehensively search for high-quality solutions. Specifically, the algorithm begins with an initial solution – $s_o$, setting it as the current solution – $s$, as well as the best solution – $s^*$. Hereafter, the algorithm iterates until it reaches a threshold level of solution quality or computation effort. In each such iteration, the algorithm sequentially generates a new solution from a given set of neighbourhoods – $N$. In each such sequence, the Variable Neighbourhood Search algorithm performs a series of transformations on the current solution, defined by the neighbourhood $N_j;j≤||N||$, to generate a new solution – $s'$. This new solution undergoes local search – $\\text{LS}$, in the same neighbourhood – $N_j$, given search parameters – $χ$. If the resulting new solution is better than the current solution, then the algorithm updates the current solution and consequently restarts the neighbourhood search after updating the best solution, if required. Alternatively, if the resulting new solution is not better than the current solution, then the algorithm simply moves to the next neighbourhood in the sequence. Finally, upon reaching a threshold level of solution quality or computational effort, the algorithm converges, returning the best solution.\n",
    "\n",
    "Much like the Iterative Local Search algorithm, the Variable Neighbourhood Search algorithm ensures solution diversification (exploration) through multiple neighbourhood transformations that enable the search to escape the local optima, and solution exploitation (intensification) through the local search heuristics that refine solutions to reach local optima. To ensure effective exploration and exploitation of the solution landscape, the algorithm necessitates deliberate development contextual to the problem at hand with suitable neighbourhood structures, appropriate local search procedure, and sophisticated parameter tuning. And while this makes for a difficult implementation, as is the case with the Iterative Local Search algorithm, yet due to the capability of the Variable Neighbourhood Search algorithm to explore multiple neighbourhoods, it has found extensive use in the literature to address the routing-based problems such as the dial-a-ride problem and vehicle routing problem.\n",
    "\n",
    "\n",
    "---\n",
    "\n",
    "## Pseudo Code\n",
    "\n",
    "1. **Procedure** $\\text{VNS}(s_o, (LS, N, \\chi))$\n",
    "2. $s ← s_o$ &emsp;<small>// initialise current solution $s$ as the initial solution $s_o$</small>\n",
    "3. $s^* ← s$ &emsp;<small>// initialise best solution $s^*$ as the current solution</small>\n",
    "4. $i ← ||N||$ &emsp;<small>// set $i$ as the size of the neighbourhood set $N$</small>\n",
    "5. $j ← 1$ &emsp;<small>// initialise neighbourhood index $j$ to 1</small>\n",
    "6. **while** $!\\text{converged}$ **do** &emsp;<small>// repeat until converged</small>\n",
    "7. &emsp;**while** $j \\leq i$ &emsp;<small>// repeat until all neighbourhoods are explored</small>\n",
    "8. &emsp;&emsp;$s' {R \\atop ←} N_j(s)$ &emsp;<small>// generate new random solution from neighborhood $N_j$ of the current solution</small>\n",
    "9. &emsp;&emsp;$s' ← \\text{LS}(s', (N_j, \\chi))$ &emsp;<small>// perform local search $\\text{LS}$ on the new solution given search parameters $\\chi$</small>\n",
    "10. &emsp;&emsp;**if** $f(s') < f(s)$ **then** &emsp;<small>// if the new solution is better than the current solution</small>\n",
    "11. &emsp;&emsp;&emsp;$s ← s'$ &emsp;<small>// update the current solution to the new solution</small>\n",
    "12. &emsp;&emsp;&emsp;$j ← 1$ &emsp;<small>// reset the neighbourhood index to one</small>\n",
    "13. &emsp;&emsp;**else**\n",
    "14. &emsp;&emsp;&emsp;$j ← j + 1$ &emsp;<small>// move neighbourhood index to the next index</small>\n",
    "15. &emsp;&emsp;**end if**\n",
    "16. &emsp;**if** $f(s) < f(s^*)$ **then** &emsp;<small>// if the current solution is better than the best solution</small>\n",
    "17. &emsp;&emsp;$s^* ← s$ &emsp;<small>// update the best solution to the current solution</small>\n",
    "18. &emsp;**end if**\n",
    "19. &emsp;**end while**\n",
    "20. **end while**\n",
    "21. **return** $s^*$ &emsp;<small>// return the best solution</small>\n",
    "\n",
    "---\n",
    "\n",
    "## Implementation\n",
    "\n",
    "---\n",
    "\n",
    "## Case Study\n",
    "\n",
    "---\n",
    "\n",
    "```{note}\n",
    "...\n",
    "```"
   ]
  }
 ],
 "metadata": {
  "language_info": {
   "name": "python"
  }
 },
 "nbformat": 4,
 "nbformat_minor": 2
}
