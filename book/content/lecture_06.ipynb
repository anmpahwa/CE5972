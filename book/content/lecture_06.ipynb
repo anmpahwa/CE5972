{
 "cells": [
  {
   "cell_type": "markdown",
   "metadata": {},
   "source": [
    "# Lecture 6: Graphical Solution Method\n",
    "\n",
    "---\n",
    "\n",
    "Note, for a general $n$-dimensional problem, i.e., for a problem with $n$ decision variables, we will have an $n$ dimensional feasible region. And therefore, for an $n$-dimensional problem, the graphical solution is not a viable alternative."
   ]
  }
 ],
 "metadata": {
  "language_info": {
   "name": "python"
  }
 },
 "nbformat": 4,
 "nbformat_minor": 2
}
