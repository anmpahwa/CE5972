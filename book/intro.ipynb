{
 "cells": [
  {
   "cell_type": "markdown",
   "metadata": {},
   "source": [
    "# CE 5972 - Optimisation Techniques in Transportation Engineering\n",
    "\n",
    "### Objectives\n",
    "\n",
    "- To model complex transportation problems and solve them using suitable optimisation methods\n",
    "- To develop fundamental understanding of different optimisation techniques applied in transportation engineering\n",
    "- To interpret solutions derived from optimisation models and make informed managerial decisions in real-world transportation scenarios\n",
    "\n",
    "### Content\n",
    "\n",
    "- Module 1. Linear Programming\n",
    "\t- Principles of linear programming: objective function, decision variables, and constraints\n",
    "\t- Solution Method: graphical method and simplex algorithm\n",
    "\t- Decision-Making: inferring results, sensitivity analysis, and duality\n",
    "\n",
    "- Module 2. Transportation Engineering Problems\n",
    "\t- Fundamental Problems: transportation problem, assignment problem, trans-shipment problem\n",
    "\t- Routing Problems: least-cost path problem, traveling salesman problem, vehicle routing problem, facility location problem\n",
    "\t- Other Problems: Network Design Problem\n",
    "\n",
    "- Module 3. Non-linear Programming\n",
    "\t- Principles of non-linear programming \n",
    "\t- Solution Method: local search, evolutionary computation, and swarm intelligence metaheuristics\n",
    "\t- Case Studies\n",
    "\n",
    "### Textbooks\n",
    "\n",
    "- Hillier, F. S., & Lieberman, G. J. (2024). Introduction to operations research. 12th edition, McGraw-Hill\n",
    "- Winston, W. L. (2022). Operations Research: Applications and Algorithms. 4th edition, Cengage Learning\n",
    "\n",
    "### Grading\n",
    "\n",
    "\n",
    "\n",
    "### Schedule "
   ]
  }
 ],
 "metadata": {
  "kernelspec": {
   "display_name": "Julia 1.9.4",
   "language": "julia",
   "name": "julia-1.9"
  },
  "language_info": {
   "file_extension": ".jl",
   "mimetype": "application/julia",
   "name": "julia",
   "version": "1.9.4"
  }
 },
 "nbformat": 4,
 "nbformat_minor": 2
}
