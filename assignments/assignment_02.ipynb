{
 "cells": [
  {
   "cell_type": "markdown",
   "metadata": {},
   "source": [
    "# Assignment 2\n",
    "\n",
    "---\n",
    "\n",
    "1. **Road Maintenance Problem**\n",
    "\n",
    "    The Chennai Unified Metropolitan Transport Authority (CUMTA) is planning to allocate ₹5,00,000 to maintain two major arterial routes, R1 and R2. R1 has a maintenance cost of ₹50,000 per kilometer, while R2 amounts for ₹30,000 per kilometer for road maintenance. To ensure a minimal level of service on both arterial routes, CUMTA must finance upkeep of at least 5 kilometers on both routes. \n",
    "\n",
    "3. **Holiday-Special Train Scheduling Problem**\n",
    "\n",
    "    The Indian Railways needs to schedule holiday-special trains between Chennai and Hyderabad to cater to the increased demand during the Pongal festival. Specifically, the surge in passenger demand for the three days prior to the festival is 10k, 15k, and 12k passengers, respectively. If the holiday-special trains can serve upto 1500 passengers at an operating cost of ₹150 per km, then,\n",
    "\n",
    "4. **Amazon Last-Mile Delivery Problem**\n",
    "\n",
    "    Amazon plans to operate three types of delivery fleets T1 (diesel van), T2 (electric van), and T3 (motorised two-wheeler) in Chennai. The table below presents key characteristics of these three delivery vehicles - purchase cost, operatonal cost (fuel cost + maintenance cost + driver wage), and capacity. \n",
    "    \n",
    "      | Vehicle Type          | Purchase Cost (₹)        | Operational cost (₹ per km) | Capacity (number of customers) |\n",
    "      |-----------------------|--------------------------|-----------------------------|--------------------------------|\n",
    "      | Diesel Van            | 6,00,000                 | ₹7 + ₹3 + ₹25 = ₹35         | 200                            |\n",
    "      | Electric Van          | 9,00,000                 | ₹2 + ₹1 + ₹25 = ₹28         | 150                            |\n",
    "      | Motorised two-wheeler | 1,50,000                 | ₹3 + ₹1 + ₹25 = ₹29         | 20                             |\n",
    "    \n",
    "    Use the following notations.\n",
    "\n",
    "    - number of delivery vehicles purchased:  $f_i \\ \\forall \\in [1,3]$\n",
    "\n",
    "    - number of delivery tours per vehicle: $m_i \\ \\forall \\in [1,3]$\n",
    "\n",
    "    - number of customer per delivery tour: $c_i \\ \\forall \\in [1,3]$\n",
    "\n",
    "    Answer the following questions\n"
   ]
  }
 ],
 "metadata": {
  "language_info": {
   "name": "python"
  }
 },
 "nbformat": 4,
 "nbformat_minor": 2
}
