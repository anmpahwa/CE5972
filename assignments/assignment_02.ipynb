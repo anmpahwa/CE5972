{
 "cells": [
  {
   "cell_type": "markdown",
   "metadata": {},
   "source": [
    "# Assignment 2\n",
    "\n",
    "---\n",
    "\n",
    "1. **Road Maintenance Problem**\n",
    "\n",
    "    The Chennai Unified Metropolitan Transport Authority (CUMTA) is planning to allocate ₹5,00,000 to maintain two major arterial routes - R1 and R2. Here, R1 has a maintenance cost of ₹50,000 per kilometer, while R2 amounts for ₹30,000 per kilometer for road maintenance. Further, CUMTA plans to finance upkeep of at least 5 kilometers on both the arterial routes to ensure a minimal level of service on the two routes. Based on the formulation developed in the previous assignment, develop figures showcasing,\n",
    "\n",
    "    - Isocost lines (2)\n",
    "\n",
    "    - Feasible region (2)\n",
    "\n",
    "    - Optimal solution (decision variable and objective function value) (2)\n",
    "\n",
    "2. **Holiday-Special Train Scheduling Problem**\n",
    "\n",
    "    The operations team of the Southern Indian Railways wants to schedule holiday-special trains, each with a capacity of 1500 passengers and operational cost of ₹150/km, between Chennai and Hyderabad to cater to the increased passenger demand during the Pongal festival. The surge in passenger demand for the three days prior to the festival is expected to be 10k, 15k, and 12k passengers, respectively. Using the formulation developed in the previous assignment, answer the following questions.\n",
    "\n",
    "    - Transform the constraints into a system of equations. (2)\n",
    "\n",
    "    - Relax the integer constraint of $x_i$'s. (1)\n",
    "\n",
    "    - Find the optimal solution using Simplex method. (5)\n",
    "\n",
    "3. **Delhi-Chennai High-Speed Rail Problem**\n",
    "\n",
    "    The National High Speed Rail Coroporation (NHRC) plans to operate two types of high-speed bullet trains, $\\text{T}_1$ and $\\text{T}_2$, between Delhi and Chennai, cutting down travel time between two cities from 32 hours to less than 12 hours. Here, $\\text{T}_1$ is an executive service train with a capacity of 800 passengers and an operational cost of ₹250/km, stopping at Vijaywada, Nagpur, Bhopal, and Agra on its way from Chennai to Delhi. On the other hand, $\\text{T}_2$ is an economy service train with a capacity of 1200 passengers and an operational cost of ₹200/km, having additional stops at Gudur, Balharshah, and Jhansi. To ensure a smooth level of service against an uncertain demand that follows a normal distribution with a mean of 5000 passengers and a standard deviation of 500, and yet maintain operational profitability, NHRC plans to run at most 3 trains daily, for both, executive and economy service. For this problem,\n",
    "\n",
    "    - Formulate the primal and dual optimisation problem. (4)\n",
    "\n",
    "    - With integer constraints relaxed, attach two spreadsheets, one solving the primal optimisation problem and the other solving the dual optimisation problem. (10)\n",
    "\n",
    "    - Interpret the resulting primal and dual variables. (2)"
   ]
  }
 ],
 "metadata": {
  "language_info": {
   "name": "python"
  }
 },
 "nbformat": 4,
 "nbformat_minor": 2
}
