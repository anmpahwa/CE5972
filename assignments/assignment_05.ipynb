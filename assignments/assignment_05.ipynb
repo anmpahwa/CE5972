{
 "cells": [
  {
   "cell_type": "markdown",
   "metadata": {},
   "source": [
    "# Assignment #5\n",
    "\n",
    "---\n",
    "\n",
    "1. **Toll-Revenue Optimisation**\n",
    "\n",
    "    Consider a highway management firm that operates and maintains the expressway connecting Chennai with Bangalore. The highway management firm wants to set toll price $p_1$ for private vehicles and $p_2$ for commercial vehicles, to collect toll revenue on this highway. However, the National Highways Authority of India (NHAI) wants to facilitate sufficient flow between Chennai and Bangalore, ensuring that at least 1000 private and 1500 commercial vehicles each use the expressway during the peak hour. Given that the peak hour expressway traffic for private and commercial vehicles is subject to respective toll prices, and is given by $Q_1(p_1) = 5000 - 20p_1$ and $Q_2(p_2) = 6000 - 0.05p_2^2$, respectively, address the questions below. (Note: assume toll prices to take fractional values)\n",
    "\n",
    "    a. Formulate an optimisation model for this problem. (2)\n",
    "\n",
    "    b. Formulate Lagrange optimisation model for this problem. (2)\n",
    "\n",
    "    c. Develop the Karush-Kuhn-Tucker (KKT) conditions for this problem. (2)\n",
    "\n",
    "    d. Fomrulate the Hessian matrix. (2)\n",
    "\n",
    "    e. Solve the above-developed KKT conditions. (2)\n",
    "\n",
    "    f. Calculate total toll-revenue for each solution and report the optimal. (1)\n",
    "\n",
    "2. **Vehicle Routing Problem**\n",
    "\n",
    "    Consider the benchmarked Vehicle Routing Problem instance (E-n51-k5) defined on a directed graph $G=(d,C)$, where $d$ represents depot node, and node set $C$ represents customer nodes. Here, each customer node $c \\in C$ has a demand $q_c$ that must be fulfilled from the depot via delivery fleet $V$, wherein each vehicle $v$ has a capacity $q_v$. Given traversal length $d_{ij}$ for arc $(i,j) \\in A$:"
   ]
  },
  {
   "cell_type": "code",
   "execution_count": 4,
   "metadata": {},
   "outputs": [],
   "source": [
    "D = [(0, 30, 40, 0)]\n",
    "C = [\n",
    "      (1, 37, 52, 7), \n",
    "      (2, 49, 49, 30), \n",
    "      (3, 52, 64, 16), \n",
    "      (4, 20, 26, 9), \n",
    "      (5, 40, 30, 21), \n",
    "      (6, 21, 47, 15), \n",
    "      (7, 17, 63, 19), \n",
    "      (8, 31, 62, 23), \n",
    "      (9, 52, 33, 11), \n",
    "      (10, 51, 21, 5), \n",
    "      (11, 42, 41, 19), \n",
    "      (12, 31, 32, 29), \n",
    "      (13, 5, 25, 23), \n",
    "      (14, 12, 42, 21), \n",
    "      (15, 36, 16, 10), \n",
    "      (16, 52, 41, 15), \n",
    "      (17, 27, 23, 3), \n",
    "      (18, 17, 33, 41), \n",
    "      (19, 13, 13, 9), \n",
    "      (20, 57, 58, 28), \n",
    "      (21, 62, 42, 8), \n",
    "      (22, 42, 57, 8), \n",
    "      (23, 16, 57, 16), \n",
    "      (24, 8, 52, 10), \n",
    "      (25, 7, 38, 28), \n",
    "      (26, 27, 68, 7), \n",
    "      (27, 30, 48, 15), \n",
    "      (28, 43, 67, 14), \n",
    "      (29, 58, 48, 6), \n",
    "      (30, 58, 27, 19), \n",
    "      (31, 37, 69, 11), \n",
    "      (32, 38, 46, 12), \n",
    "      (33, 46, 10, 23), \n",
    "      (34, 61, 33, 26), \n",
    "      (35, 62, 63, 17), \n",
    "      (36, 63, 69, 6), \n",
    "      (37, 32, 22, 9), \n",
    "      (38, 45, 35, 15), \n",
    "      (39, 59, 15, 14), \n",
    "      (40, 5, 6, 7), \n",
    "      (41, 10, 17, 27), \n",
    "      (42, 21, 10, 13), \n",
    "      (43, 5, 64, 11), \n",
    "      (44, 30, 15, 16), \n",
    "      (45, 39, 10, 10), \n",
    "      (46, 32, 39, 5), \n",
    "      (47, 25, 32, 25), \n",
    "      (48, 25, 55, 17), \n",
    "      (49, 48, 28, 18), \n",
    "      (50, 56, 37, 10)\n",
    "]\n",
    "V = [\n",
    "      (1, 160),\n",
    "      (2, 160),\n",
    "      (3, 160),\n",
    "      (4, 160),\n",
    "      (5, 160)\n",
    "]"
   ]
  },
  {
   "cell_type": "markdown",
   "metadata": {},
   "source": [
    "Consider the following python implementation of the Variable Neighbourhood Search-Simulated Annealing (VNS-SA) algorithm for this VRP."
   ]
  },
  {
   "cell_type": "code",
   "execution_count": null,
   "metadata": {},
   "outputs": [],
   "source": [
    "import copy\n",
    "import random\n",
    "import numpy as np\n",
    "import matplotlib.cm as cm\n",
    "import matplotlib.pyplot as plt\n",
    "\n",
    "def vns_sa(s_o, ls, N, X, T_o, r, n, t):\n",
    "    s = s_o\n",
    "    s_b = s\n",
    "    S_c = [s_b]\n",
    "    S_b = [s_b]\n",
    "\n",
    "    T = T_o        \n",
    "\n",
    "    i = 1\n",
    "    k = len(N)\n",
    "    e = float('inf')\n",
    "    converged = False\n",
    "    while not converged:\n",
    "        j = 0\n",
    "        while j < k:\n",
    "            N_j = N[j]\n",
    "            s_n = N_j(s)\n",
    "            s_n = ls(s_n, N_j, X)\n",
    "            \n",
    "            if f(s_n) < f(s):\n",
    "                s = s_n\n",
    "                j = 0\n",
    "            else:\n",
    "                l = random.uniform(0, 1)\n",
    "                if l < np.exp(-(f(s_n) - f(s)) / T):\n",
    "                    s = s_n\n",
    "                j += 1\n",
    "                    \n",
    "            if f(s) < f(s_b):\n",
    "                e   = f(s_b) - f(s)\n",
    "                s_b = s\n",
    "\n",
    "        S_c.append(s)\n",
    "        S_b.append(s_b)\n",
    "\n",
    "        T *= r\n",
    "        \n",
    "        i += 1\n",
    "        if i >= n or e <= t:\n",
    "          converged = True\n",
    "\n",
    "    return S_c, S_b"
   ]
  },
  {
   "cell_type": "markdown",
   "metadata": {},
   "source": [
    "Consider the objective function evaluation definition $f$ for the VRP:"
   ]
  },
  {
   "cell_type": "code",
   "execution_count": 5,
   "metadata": {},
   "outputs": [],
   "source": [
    "# Compute total cost\n",
    "def f(s):\n",
    "    z = 0\n",
    "    d = D[0]\n",
    "\n",
    "    for k, R in enumerate(s):\n",
    "        if not R:\n",
    "            continue\n",
    "        \n",
    "        # Distance\n",
    "        n  = C[R[0]]\n",
    "        z += np.sqrt((d[1] - n[1])**2 + (d[2] - n[2])**2)\n",
    "        for i in range(len(R)-1):\n",
    "            m  = C[R[i+1]]\n",
    "            z += np.sqrt((n[1] - m[1])**2 + (n[2] - m[2])**2)\n",
    "            n  = m\n",
    "        z += np.sqrt((n[1] - d[1])**2 + (n[2] - d[2])**2)\n",
    "\n",
    "        # Penalty\n",
    "        v   = V[k]\n",
    "        q_v = v[1]\n",
    "        w   = sum(C[i][3] for i in s[k])\n",
    "        p   = max(0, w-q_v)\n",
    "        z  +=  100 * p\n",
    "\n",
    "    return z"
   ]
  },
  {
   "cell_type": "markdown",
   "metadata": {},
   "source": [
    "Consider the different neighbourhood defintions $N$ for the VRP:"
   ]
  },
  {
   "cell_type": "code",
   "execution_count": 6,
   "metadata": {},
   "outputs": [],
   "source": [
    "# Move  \n",
    "def N1(s):\n",
    "    s_n = copy.deepcopy(s)\n",
    "\n",
    "    i, j = random.sample(range(len(V)), 2)\n",
    "    k = random.randint(0, len(s_n[i])-1)\n",
    "    \n",
    "    c = s_n[i][k]\n",
    "    del s_n[i][k]\n",
    "\n",
    "    k = random.randint(0, len(s_n[j]))\n",
    "    s_n[j].insert(k, c)\n",
    "\n",
    "    return s_n\n",
    "\n",
    "# Swap\n",
    "def N2(s):\n",
    "    s_n = copy.deepcopy(s)\n",
    "\n",
    "    i, j = random.sample(range(len(V)), 2)\n",
    "    \n",
    "    if not s_n[i]:\n",
    "        return s_n\n",
    "    if not s_n[j]:\n",
    "        return s_n\n",
    "    \n",
    "    a = random.randint(0, len(s_n[i])-1)\n",
    "    b = random.randint(0, len(s_n[j])-1)\n",
    "\n",
    "    s_n[i][a], s_n[j][b] = s_n[j][b], s_n[i][a]\n",
    "\n",
    "    return s_n\n",
    "\n",
    "# 2-opt\n",
    "def N3(s):\n",
    "    s_n = copy.deepcopy(s)\n",
    "    \n",
    "    i = random.choice([k for k, R in enumerate(s_n) if len(R) >= 4])\n",
    "    \n",
    "    R = s_n[i]\n",
    "    a, b = sorted(random.sample(range(len(R)), 2))\n",
    "    R[a:b+1] = reversed(R[a:b+1])\n",
    "    s_n[i] = R\n",
    "    \n",
    "    return s_n"
   ]
  },
  {
   "cell_type": "markdown",
   "metadata": {},
   "source": [
    "Consider the local search definition $ls$:"
   ]
  },
  {
   "cell_type": "code",
   "execution_count": 7,
   "metadata": {},
   "outputs": [],
   "source": [
    "# Local Search\n",
    "def ls(s, N, X):\n",
    "    for _ in range(X.get(\"m\", 50)):\n",
    "        s_n = N(s)\n",
    "        if f(s_n) < f(s):\n",
    "            s = s_n\n",
    "    return s"
   ]
  },
  {
   "cell_type": "markdown",
   "metadata": {},
   "source": [
    "Consider the given initial solution $s_o$ for the VRP:"
   ]
  },
  {
   "cell_type": "code",
   "execution_count": 8,
   "metadata": {},
   "outputs": [
    {
     "name": "stdout",
     "output_type": "stream",
     "text": [
      "Objective function value: 1399.18067025679\n"
     ]
    }
   ],
   "source": [
    "# Initial solution\n",
    "d   = D[0]\n",
    "s_o = [[] for v in V]\n",
    "for i, c in enumerate(C):\n",
    "    q_c = c[3]\n",
    "    for j, v in enumerate(V):\n",
    "        q_v = v[1]\n",
    "        w   = sum(C[k][3] for k in s_o[j])\n",
    "        if w + q_c <= q_v:\n",
    "            s_o[j].append(i)\n",
    "            break\n",
    "\n",
    "print(\"Objective function value:\", f(s_o))  "
   ]
  },
  {
   "cell_type": "markdown",
   "metadata": {},
   "source": [
    "a. Write down pseudo code for the VNS-SA algorithm, clearly explaining each step. (5)"
   ]
  },
  {
   "cell_type": "markdown",
   "metadata": {},
   "source": [
    "b. Using the VNS-SA algorithm, solve for the VRP (5)"
   ]
  },
  {
   "cell_type": "code",
   "execution_count": null,
   "metadata": {},
   "outputs": [],
   "source": [
    "# TODO\n",
    "# replace m with number of iterations of local search you would like to have\n",
    "# replace T_o with a value that allows the algorithm to accept 5% worse solution than s_o with 50% probability (HINT: use p = exp(-(f(s_n) - f(s_o)) / T_o)\n",
    "# replace n with number of iterations of the algorithm you would like to have\n",
    "# relace r with a value such that the final temperature is smaller than the intial temperature by an order of 10. (HINT: use T_o * (r ^ n) = T_f; T_f / T_o = 0.1)\n",
    "# replace t with a tolerance level you would like to have\n",
    "\n",
    "S_c, S_b = vns_sa(s_o, ls, [N1, N2, N3], {\"n\": m} , T_o, r, n, t)\n",
    "s_o, s_b = S_b[0], S_b[-1]"
   ]
  },
  {
   "cell_type": "markdown",
   "metadata": {},
   "source": [
    "c. Report the outcome: (2)\n",
    "- Establish the total cost for the intial and the final (best) solution (Hint: use the objective function defintion $f$)\n",
    "- Visualise the intiial and the final solution (Hint: use the visualiser function $viz$)"
   ]
  },
  {
   "cell_type": "code",
   "execution_count": null,
   "metadata": {},
   "outputs": [],
   "source": [
    "# Visualise\n",
    "def viz(s):\n",
    "    d = D[0]\n",
    "\n",
    "    plt.scatter(d[1], d[2], c='indianred', marker='s', s=100, label='Depot')\n",
    "\n",
    "    for i, R in enumerate(s):\n",
    "        if R:\n",
    "            x = [C[j][1] for j in R]\n",
    "            y = [C[j][2] for j in R]\n",
    "            plt.plot(x, y, label=f'Vehicle {i+1}', linewidth=1)\n",
    "            plt.scatter([C[k][1] for k in R], [C[k][2] for k in R], s=40, color='grey')\n",
    "\n",
    "    plt.legend()\n",
    "    plt.title(\"VRP Solution\")\n",
    "    plt.xlabel(\"X coordinate\")\n",
    "    plt.ylabel(\"Y coordinate\")\n",
    "    plt.grid(True)\n",
    "    plt.show()\n",
    "\n",
    "# Report outcome\n",
    "print(\"Objective function value: Initial\", f(s_o))\n",
    "print(\"Objective function value: Best\", f(s_b))\n",
    "viz(s_o)\n",
    "viz(s_b)"
   ]
  },
  {
   "cell_type": "markdown",
   "metadata": {},
   "source": [
    "d. Plot convergence (2)"
   ]
  },
  {
   "cell_type": "code",
   "execution_count": null,
   "metadata": {},
   "outputs": [],
   "source": [
    "# Convergence plot\n",
    "F_c = [f(s) for s in S_c]\n",
    "F_b = [f(s) for s in S_b]\n",
    "fig = plt.figure()\n",
    "plt.plot(F_c, label='current', color='steelblue', linewidth=1)\n",
    "plt.plot(F_b, label='best', color='red', linewidth=2)\n",
    "plt.legend()\n",
    "plt.xlabel(\"Iteration\")\n",
    "plt.ylabel(\"Objective Function Value\")\n",
    "plt.title(\"Convergence of VNS-SA Algorithm\")\n",
    "plt.grid()\n",
    "plt.show()"
   ]
  }
 ],
 "metadata": {
  "kernelspec": {
   "display_name": "Python 3",
   "language": "python",
   "name": "python3"
  },
  "language_info": {
   "codemirror_mode": {
    "name": "ipython",
    "version": 3
   },
   "file_extension": ".py",
   "mimetype": "text/x-python",
   "name": "python",
   "nbconvert_exporter": "python",
   "pygments_lexer": "ipython3",
   "version": "3.13.0"
  }
 },
 "nbformat": 4,
 "nbformat_minor": 2
}
